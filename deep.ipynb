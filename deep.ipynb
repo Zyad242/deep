{
 "cells": [
  {
   "cell_type": "code",
   "execution_count": 5,
   "id": "4569c273",
   "metadata": {},
   "outputs": [
    {
     "data": {
      "text/plain": [
       "[]"
      ]
     },
     "execution_count": 5,
     "metadata": {},
     "output_type": "execute_result"
    }
   ],
   "source": [
    "[ ]\n",
    "# Part 0: Data Preparation\n",
    "import numpy as np\n",
    "import pandas as pd\n",
    "import tensorflow as tf\n",
    "from tensorflow import keras\n",
    "\n",
    "from sklearn.datasets import fetch_openml\n",
    "from sklearn.model_selection import train_test_split\n",
    "from sklearn.preprocessing import OneHotEncoder, StandardScaler, LabelEncoder\n",
    "from sklearn.compose import ColumnTransformer\n",
    "from sklearn.pipeline import Pipeline\n",
    "\n",
    "\n",
    "\n",
    "adult = fetch_openml(name=\"adult\", version=2, as_frame=True)\n",
    "df = adult.frame\n",
    "\n",
    "\n",
    "X = df.drop(columns=\"class\")\n",
    "y = df[\"class\"]\n",
    "\n",
    "\n",
    "X_train_full, X_temp, y_train_full, y_temp = train_test_split(X, y, test_size=0.3, random_state=42, stratify=y)\n",
    "X_val, X_test, y_val, y_test = train_test_split(X_temp, y_temp, test_size=0.5, random_state=42, stratify=y_temp)\n",
    "\n",
    "\n",
    "categorical = X.select_dtypes(include=[\"category\", \"object\"]).columns\n",
    "numerical = X.select_dtypes(include=[\"int64\", \"float64\"]).columns\n",
    "\n",
    "\n",
    "preprocessor = ColumnTransformer([\n",
    "(\"cat\", OneHotEncoder(handle_unknown=\"ignore\"), categorical),\n",
    "(\"num\", StandardScaler(), numerical)\n",
    "])\n",
    "\n",
    "\n",
    "X_train = preprocessor.fit_transform(X_train_full)\n",
    "X_val = preprocessor.transform(X_val)\n",
    "X_test = preprocessor.transform(X_test)\n",
    "\n",
    "\n",
    "from sklearn.preprocessing import LabelEncoder\n",
    "le = LabelEncoder()\n",
    "y_train = le.fit_transform(y_train_full)\n",
    "y_val = le.transform(y_val)\n",
    "y_test = le.transform(y_test)\n",
    "\n",
    "\n",
    "X_train.shape, X_val.shape, X_test.shape\n",
    "\n",
    "\n",
    "[ ]"
   ]
  },
  {
   "cell_type": "code",
   "execution_count": 6,
   "id": "b2736e10",
   "metadata": {},
   "outputs": [
    {
     "name": "stdout",
     "output_type": "stream",
     "text": [
      "SGD Train Acc: 0.857498049736023 Val Acc: 0.861725389957428\n",
      "SGD_momentum Train Acc: 0.8595747351646423 Val Acc: 0.8592683672904968\n",
      "Adam Train Acc: 0.8674427270889282 Val Acc: 0.8640458583831787\n"
     ]
    }
   ],
   "source": [
    "[ ]\n",
    "# Part 1: Optimizers\n",
    "import tensorflow as tf\n",
    "from tensorflow import keras\n",
    "\n",
    "def build_model():\n",
    "    model = keras.Sequential([\n",
    "        keras.layers.Input(shape=(X_train.shape[1],)),\n",
    "        keras.layers.Dense(64, activation=\"relu\"),\n",
    "        keras.layers.Dense(32, activation=\"relu\"),\n",
    "        keras.layers.Dense(1, activation=\"sigmoid\")\n",
    "    ])\n",
    "    return model\n",
    "\n",
    "optimizers = {\n",
    "    \"SGD\": keras.optimizers.SGD(learning_rate=0.01),\n",
    "    \"SGD_momentum\": keras.optimizers.SGD(learning_rate=0.01, momentum=0.9),\n",
    "    \"Adam\": keras.optimizers.Adam(learning_rate=0.001)\n",
    "}\n",
    "\n",
    "histories = {}\n",
    "for name, opt in optimizers.items():\n",
    "    model = build_model()\n",
    "    model.compile(optimizer=opt, loss=\"binary_crossentropy\", metrics=[\"accuracy\"])\n",
    "    history = model.fit(X_train, y_train, validation_data=(X_val, y_val), epochs=10, verbose=0)\n",
    "    histories[name] = history\n",
    "\n",
    "for name, history in histories.items():\n",
    "    print(name, \"Train Acc:\", history.history['accuracy'][-1], \"Val Acc:\", history.history['val_accuracy'][-1])\n"
   ]
  },
  {
   "cell_type": "code",
   "execution_count": 7,
   "id": "51a99e8e",
   "metadata": {},
   "outputs": [
    {
     "name": "stdout",
     "output_type": "stream",
     "text": [
      "Batch 1: Train Acc 0.8600, Val Acc 0.8634\n",
      "Batch 32: Train Acc 0.8597, Val Acc 0.8617\n",
      "Batch 128: Train Acc 0.8582, Val Acc 0.8593\n",
      "Batch 1024: Train Acc 0.8553, Val Acc 0.8608\n"
     ]
    }
   ],
   "source": [
    "[ ]\n",
    "# Part 2: Batch Size\n",
    "batch_sizes = [1, 32, 128, 1024]\n",
    "\n",
    "for bs in batch_sizes:\n",
    "    model = build_model()\n",
    "    model.compile(optimizer=\"adam\", loss=\"binary_crossentropy\", metrics=[\"accuracy\"])\n",
    "    history = model.fit(X_train, y_train, validation_data=(X_val, y_val), batch_size=bs, epochs=5, verbose=0)\n",
    "    print(f\"Batch {bs}: Train Acc {history.history['accuracy'][-1]:.4f}, Val Acc {history.history['val_accuracy'][-1]:.4f}\")\n"
   ]
  },
  {
   "cell_type": "code",
   "execution_count": 8,
   "id": "231f71da",
   "metadata": {},
   "outputs": [
    {
     "name": "stdout",
     "output_type": "stream",
     "text": [
      "Large model Val Acc: 0.845754861831665\n",
      "L2 Reg Val Acc: 0.8615888357162476\n",
      "Dropout Val Acc: 0.8624078631401062\n"
     ]
    }
   ],
   "source": [
    "[ ]\n",
    "# Part 3: Overfitting and Regularization\n",
    "# Large model (overfitting expected)\n",
    "model_large = keras.Sequential([\n",
    "    keras.layers.Input(shape=(X_train.shape[1],)),\n",
    "    keras.layers.Dense(256, activation=\"relu\"),\n",
    "    keras.layers.Dense(256, activation=\"relu\"),\n",
    "    keras.layers.Dense(128, activation=\"relu\"),\n",
    "    keras.layers.Dense(1, activation=\"sigmoid\")\n",
    "])\n",
    "model_large.compile(optimizer=\"adam\", loss=\"binary_crossentropy\", metrics=[\"accuracy\"])\n",
    "history_large = model_large.fit(X_train, y_train, validation_data=(X_val, y_val), epochs=20, verbose=0)\n",
    "\n",
    "# L2 regularization\n",
    "model_l2 = keras.Sequential([\n",
    "    keras.layers.Input(shape=(X_train.shape[1],)),\n",
    "    keras.layers.Dense(256, activation=\"relu\", kernel_regularizer=keras.regularizers.l2(0.001)),\n",
    "    keras.layers.Dense(128, activation=\"relu\", kernel_regularizer=keras.regularizers.l2(0.001)),\n",
    "    keras.layers.Dense(1, activation=\"sigmoid\")\n",
    "])\n",
    "model_l2.compile(optimizer=\"adam\", loss=\"binary_crossentropy\", metrics=[\"accuracy\"])\n",
    "history_l2 = model_l2.fit(X_train, y_train, validation_data=(X_val, y_val), epochs=20, verbose=0)\n",
    "\n",
    "# Dropout regularization\n",
    "model_dropout = keras.Sequential([\n",
    "    keras.layers.Input(shape=(X_train.shape[1],)),\n",
    "    keras.layers.Dense(256, activation=\"relu\"),\n",
    "    keras.layers.Dropout(0.5),\n",
    "    keras.layers.Dense(128, activation=\"relu\"),\n",
    "    keras.layers.Dropout(0.5),\n",
    "    keras.layers.Dense(1, activation=\"sigmoid\")\n",
    "])\n",
    "model_dropout.compile(optimizer=\"adam\", loss=\"binary_crossentropy\", metrics=[\"accuracy\"])\n",
    "history_dropout = model_dropout.fit(X_train, y_train, validation_data=(X_val, y_val), epochs=20, verbose=0)\n",
    "\n",
    "print(\"Large model Val Acc:\", history_large.history['val_accuracy'][-1])\n",
    "print(\"L2 Reg Val Acc:\", history_l2.history['val_accuracy'][-1])\n",
    "print(\"Dropout Val Acc:\", history_dropout.history['val_accuracy'][-1])\n"
   ]
  },
  {
   "cell_type": "code",
   "execution_count": 9,
   "id": "6b5e380f",
   "metadata": {},
   "outputs": [
    {
     "name": "stdout",
     "output_type": "stream",
     "text": [
      "Trained epochs: 9\n",
      "Best Val Acc: 0.8641823530197144\n"
     ]
    }
   ],
   "source": [
    "[ ]\n",
    "# Part 4: Early Stopping\n",
    "model_es = build_model()\n",
    "model_es.compile(optimizer=\"adam\", loss=\"binary_crossentropy\", metrics=[\"accuracy\"])\n",
    "\n",
    "es = keras.callbacks.EarlyStopping(monitor=\"val_loss\", patience=3, restore_best_weights=True)\n",
    "history_es = model_es.fit(X_train, y_train, validation_data=(X_val, y_val), epochs=50, callbacks=[es], verbose=0)\n",
    "\n",
    "print(\"Trained epochs:\", len(history_es.history['accuracy']))\n",
    "print(\"Best Val Acc:\", max(history_es.history['val_accuracy']))\n"
   ]
  }
 ],
 "metadata": {
  "kernelspec": {
   "display_name": "Python 3",
   "language": "python",
   "name": "python3"
  },
  "language_info": {
   "codemirror_mode": {
    "name": "ipython",
    "version": 3
   },
   "file_extension": ".py",
   "mimetype": "text/x-python",
   "name": "python",
   "nbconvert_exporter": "python",
   "pygments_lexer": "ipython3",
   "version": "3.13.5"
  }
 },
 "nbformat": 4,
 "nbformat_minor": 5
}
